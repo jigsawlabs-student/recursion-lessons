{
 "cells": [
  {
   "cell_type": "markdown",
   "id": "foster-collar",
   "metadata": {},
   "source": [
    "# Recursion"
   ]
  },
  {
   "cell_type": "markdown",
   "id": "returning-sweden",
   "metadata": {},
   "source": [
    "### Introduction"
   ]
  },
  {
   "cell_type": "markdown",
   "id": "abandoned-mitchell",
   "metadata": {},
   "source": [
    "In this lesson, we'll introduce recursion.  We'll discuss recursion for two reasons. First, our brain may thin of recursive solutions, so then being able to translate this thinking into code is an important tool. Second, some popular algorithms that you may encounter have recursive solutions, so this will give you the fundamentals for understanding that material."
   ]
  },
  {
   "cell_type": "markdown",
   "id": "sudden-hardwood",
   "metadata": {},
   "source": [
    "### Recursion Terminology"
   ]
  },
  {
   "cell_type": "markdown",
   "id": "infrared-vessel",
   "metadata": {},
   "source": [
    "Recursive functions are functions that call themselves.  For example the function below is recursive:"
   ]
  },
  {
   "cell_type": "code",
   "execution_count": 43,
   "id": "novel-encoding",
   "metadata": {},
   "outputs": [
    {
     "name": "stdout",
     "output_type": "stream",
     "text": [
      "5\n",
      "4\n",
      "3\n",
      "2\n",
      "1\n"
     ]
    }
   ],
   "source": [
    "def count_down_from(n):\n",
    "    if (n > 0):\n",
    "        print(n)\n",
    "        say_down_from(n - 1)    \n",
    "    else:\n",
    "        return True\n",
    "\n",
    "count_down_from(5)"
   ]
  },
  {
   "cell_type": "markdown",
   "id": "caroline-terminal",
   "metadata": {},
   "source": [
    "You can see that in the body of the function, that the function calls itself. That part of the function is called the **recursive call**. \n",
    "\n",
    "You can also see that the function has a stopping point, which we call the **base case**.   So, we start at a number five, decrease that number with each iteration, and stop when $n = 0$.\n",
    "\n",
    "If there were no base case, the function would just keep going on forever.  The function `say_down_from` would blow right past the number one and begin printing negative numbers."
   ]
  },
  {
   "cell_type": "markdown",
   "id": "sudden-disability",
   "metadata": {},
   "source": [
    "### A Recursive Perspective"
   ]
  },
  {
   "cell_type": "markdown",
   "id": "american-battery",
   "metadata": {},
   "source": [
    "Now let's see if we can start with a function, and see whether this function can be written recursively.  We'll work with a function called `add_up_to_five` that adds all of the numbers up to five."
   ]
  },
  {
   "cell_type": "code",
   "execution_count": 14,
   "id": "agreed-surgeon",
   "metadata": {},
   "outputs": [],
   "source": [
    "def add_up_to_five():\n",
    "    return 1 + 2 + 3 + 4 + 5"
   ]
  },
  {
   "cell_type": "markdown",
   "id": "significant-venice",
   "metadata": {},
   "source": [
    "Which we can also write as:"
   ]
  },
  {
   "cell_type": "code",
   "execution_count": 16,
   "id": "otherwise-vietnamese",
   "metadata": {},
   "outputs": [],
   "source": [
    "def add_up_to_five():\n",
    "    return (1 + 2 + 3 + 4) + 5"
   ]
  },
  {
   "cell_type": "markdown",
   "id": "dietary-sixth",
   "metadata": {},
   "source": [
    "Consider that set of parentheses around one and four. It's really the same thing as sum up to four. So let's rewrite `add_up_to_five` as the following:"
   ]
  },
  {
   "cell_type": "code",
   "execution_count": 21,
   "id": "practical-front",
   "metadata": {},
   "outputs": [],
   "source": [
    "def add_up_to_five():\n",
    "    return add_up_to_four() + 5\n",
    "\n",
    "def add_up_to_four():\n",
    "    return 1 + 2 + 3 + 4"
   ]
  },
  {
   "cell_type": "code",
   "execution_count": 22,
   "id": "powerful-coral",
   "metadata": {},
   "outputs": [
    {
     "data": {
      "text/plain": [
       "15"
      ]
     },
     "execution_count": 22,
     "metadata": {},
     "output_type": "execute_result"
    }
   ],
   "source": [
    "add_up_to_five()"
   ]
  },
  {
   "cell_type": "markdown",
   "id": "absent-prerequisite",
   "metadata": {},
   "source": [
    "And we could rewrite add_up_to_four as `add_up_to_three() + 1`."
   ]
  },
  {
   "cell_type": "code",
   "execution_count": 24,
   "id": "provincial-newfoundland",
   "metadata": {},
   "outputs": [],
   "source": [
    "def add_up_to_four():\n",
    "    return add_up_to_three() + 4 \n",
    "\n",
    "def add_up_to_three():\n",
    "    return 1 + 2 + 3"
   ]
  },
  {
   "cell_type": "markdown",
   "id": "charming-wells",
   "metadata": {},
   "source": [
    "At this point, if we asked you to write a function called, `sum_up_to(n)`, you may agree that the definition of the sum up to a number n is equal to us adding together:\n",
    "\n",
    "* sum up to $n -1$, and then \n",
    "* add $n$"
   ]
  },
  {
   "cell_type": "code",
   "execution_count": 25,
   "id": "necessary-magnet",
   "metadata": {},
   "outputs": [],
   "source": [
    "def add_up_to_five():\n",
    "    return add_up_to_four() + 5\n",
    "\n",
    "def add_up_to_four():\n",
    "    return add_up_to_three() + 4 \n",
    "\n",
    "def add_up_to_three():\n",
    "    return add_up_to_two() + 3\n",
    "\n",
    "def add_up_to_two():\n",
    "    return add_up_to_one() + 2\n",
    "\n",
    "def add_up_to_one():\n",
    "    return 1"
   ]
  },
  {
   "cell_type": "code",
   "execution_count": 26,
   "id": "quantitative-wells",
   "metadata": {},
   "outputs": [
    {
     "data": {
      "text/plain": [
       "15"
      ]
     },
     "execution_count": 26,
     "metadata": {},
     "output_type": "execute_result"
    }
   ],
   "source": [
    "add_up_to_five()"
   ]
  },
  {
   "cell_type": "markdown",
   "id": "average-world",
   "metadata": {},
   "source": [
    "Or we can calculate this with an `add_up_to` function:"
   ]
  },
  {
   "cell_type": "markdown",
   "id": "operational-clothing",
   "metadata": {},
   "source": [
    "```python\n",
    "def add_up_to(n):\n",
    "    total = add_up_to(n -1)\n",
    "    print('add_up_to', n, 'is', total)\n",
    "    return  total + n\n",
    "\n",
    "add_up_to(5)\n",
    "```"
   ]
  },
  {
   "cell_type": "markdown",
   "id": "solved-dream",
   "metadata": {},
   "source": [
    "However, if we just keep the function above as is, we will call this function forever. Let's set a base case that when $n = 1$, we return $1$. "
   ]
  },
  {
   "cell_type": "code",
   "execution_count": 37,
   "id": "imposed-situation",
   "metadata": {},
   "outputs": [],
   "source": [
    "def add_up_to(n):\n",
    "    if n > 1:\n",
    "        total = add_up_to(n -1)\n",
    "        print('add_up_to', n - 1, 'is', total)\n",
    "        return  total + n\n",
    "    else:\n",
    "        total = 1\n",
    "        return total"
   ]
  },
  {
   "cell_type": "code",
   "execution_count": 38,
   "id": "distributed-american",
   "metadata": {},
   "outputs": [
    {
     "name": "stdout",
     "output_type": "stream",
     "text": [
      "add_up_to 1 is 1\n",
      "add_up_to 2 is 3\n",
      "add_up_to 3 is 6\n",
      "add_up_to 4 is 10\n"
     ]
    },
    {
     "data": {
      "text/plain": [
       "15"
      ]
     },
     "execution_count": 38,
     "metadata": {},
     "output_type": "execute_result"
    }
   ],
   "source": [
    "add_up_to(5)"
   ]
  },
  {
   "cell_type": "markdown",
   "id": "institutional-heading",
   "metadata": {},
   "source": [
    "### How the computer executes a recursion\n",
    "\n",
    "Now one thing we may notice from the above is that it looks like when we call the add_up_to function, it finishes calculating the `add_up_to(1)` first, and then moves to `add_up_to(2)`, and so on.  Let's try to better understand why this occurs.\n",
    "\n",
    "If we pass the number $5$ into our function, we get the following:"
   ]
  },
  {
   "cell_type": "code",
   "execution_count": 39,
   "id": "improved-natural",
   "metadata": {},
   "outputs": [],
   "source": [
    "def add_up_to(n):\n",
    "    if n > 1:\n",
    "        total = add_up_to(n -1)\n",
    "        print('add_up_to', n - 1, 'is', total)\n",
    "        return  total + n\n",
    "    else:\n",
    "        total = 1\n",
    "        return total"
   ]
  },
  {
   "cell_type": "markdown",
   "id": "photographic-computer",
   "metadata": {},
   "source": [
    "```python\n",
    "add_up_to(5) \n",
    "# translates to add_up_to(4) + 5\n",
    "    # translates to add_up_to(3) + 4\n",
    "        # translates to add_up_to(2) + 3\n",
    "            # translates to add_up_to(1) + 2\n",
    "                # translates to add_up_to(1)\n",
    "```"
   ]
  },
  {
   "cell_type": "markdown",
   "id": "governmental-demographic",
   "metadata": {},
   "source": [
    "So, we can see that Python begins by breaking down this function. And when it gets to this step, it sees that when $n$ is not greater than 1, we return 1.  So finally getting down to the base case, Python can begin calculating the value of these function calls.\n",
    "\n",
    "In other words, we get the following:"
   ]
  },
  {
   "cell_type": "markdown",
   "id": "animated-principal",
   "metadata": {},
   "source": [
    "```python\n",
    "add_up_to(1) # 1\n",
    "add_up_to(1) + 2 # 3\n",
    "add_up_to(2) + 3 # 6\n",
    "add_up_to(3) + 4 # 10\n",
    "add_up_to(4) + 5 # 15\n",
    "add_up_to(5) #  15\n",
    "```"
   ]
  },
  {
   "cell_type": "markdown",
   "id": "textile-sleeping",
   "metadata": {},
   "source": [
    "There are really two steps involved. First, Python repeatedly calls the `add_up_to()` function until it reaches the base cas, and then once reaching base case, it resolves the other function calls.\n",
    "\n",
    "Believe it or not, we see this every time a function calls another function. For example, in the functions below, before the `display_text` can determine what to display, it needs to determine the return value of `hello_world`."
   ]
  },
  {
   "cell_type": "code",
   "execution_count": 41,
   "id": "duplicate-sustainability",
   "metadata": {},
   "outputs": [],
   "source": [
    "def display_text():\n",
    "    greeting = hello_world()\n",
    "    print(greeting)\n",
    "\n",
    "def hello_world():\n",
    "    return \"hello everyone\""
   ]
  },
  {
   "cell_type": "code",
   "execution_count": 42,
   "id": "domestic-delay",
   "metadata": {},
   "outputs": [
    {
     "name": "stdout",
     "output_type": "stream",
     "text": [
      "hello everyone\n"
     ]
    }
   ],
   "source": [
    "display_text()"
   ]
  },
  {
   "cell_type": "markdown",
   "id": "breathing-purchase",
   "metadata": {},
   "source": [
    "It's the same with recursion.  It first needs to determine the value of function calls that it relies on."
   ]
  },
  {
   "cell_type": "markdown",
   "id": "qualified-comparative",
   "metadata": {},
   "source": [
    "### Discovering a recursive solution\n",
    "\n",
    "Ok, so now we understand some of the mechanics behind recursio, let's try to find a procedure for finding a recursive solution.\n",
    "\n",
    "We do so not by going through this process of breaking down and building back up the function calls. Rather we do so by a rewording. Here are the specific steps.\n",
    "\n",
    "1. We are given the problem `add_up_to(n)` and so we solve it with an example.\n",
    "\n",
    "```python\n",
    "add_up_to_n(5);\n",
    "# 1 + 2 + 3 + 4 + 5\n",
    "```\n",
    "\n",
    "2. Then we ask, can we reword the solution with the name of our function?\n",
    "\n",
    "So in this case we say, well $1 + 2 + 3 + 4 + 5$ is really `add_up_to(4)` + 5. \n",
    "\n",
    "And what about our function `count_down_from(5)`? Well it means print 5, and then count_down_from(4). This leads to our recursive call of `count_down_from(n - 1)`.\n",
    "\n",
    "Notice that each time we call the recursive function, we are reducing the size of our input.\n",
    "\n",
    "3. The last step is to find the base case. This is the case when there is really no more breaking down of the problem, so we can just return the solution. For example, `add_up_to(1)` equals 1, and `count_down_from(1)` prints $n$.\n",
    "\n",
    "### Summary"
   ]
  },
  {
   "cell_type": "markdown",
   "id": "level-possession",
   "metadata": {},
   "source": [
    "In thi lesson we saw that recursion consists of both a recursive call and a base case.  The recursive call is the function calling itself, and the base case is the stopping point.  "
   ]
  },
  {
   "cell_type": "markdown",
   "id": "simple-scheme",
   "metadata": {},
   "source": [
    "In the function below the base case is that when $n = 1$, `add_up_to` returns $1$."
   ]
  },
  {
   "cell_type": "code",
   "execution_count": null,
   "id": "moving-grace",
   "metadata": {},
   "outputs": [],
   "source": [
    "def add_up_to(n):\n",
    "    if n > 1:\n",
    "        return add_up_to(n -1) + n\n",
    "    else:\n",
    "        return 1"
   ]
  },
  {
   "cell_type": "markdown",
   "id": "attended-village",
   "metadata": {},
   "source": [
    "And each time the recurive call is made, we decrease the size of the input.  When executing the function, Python first breaks down the function until reaching the base case:"
   ]
  },
  {
   "cell_type": "markdown",
   "id": "elegant-journalist",
   "metadata": {},
   "source": [
    "```python\n",
    "add_up_to(5) \n",
    "# translates to add_up_to(4) + 5\n",
    "    # translates to add_up_to(3) + 4\n",
    "        # translates to add_up_to(2) + 3\n",
    "            # translates to add_up_to(1) + 2\n",
    "                # translates to add_up_to(1)\n",
    "```"
   ]
  },
  {
   "cell_type": "markdown",
   "id": "instructional-thickness",
   "metadata": {},
   "source": [
    "And then, upon reaching the base case, evaluates each of the function calls:"
   ]
  },
  {
   "cell_type": "markdown",
   "id": "growing-spread",
   "metadata": {},
   "source": [
    "```python\n",
    "add_up_to(1) # 1\n",
    "add_up_to(1) + 2 # 3\n",
    "add_up_to(2) + 3 # 6\n",
    "add_up_to(3) + 4 # 10\n",
    "add_up_to(4) + 5 # 15\n",
    "add_up_to(5) #  15\n",
    "```"
   ]
  },
  {
   "cell_type": "markdown",
   "id": "working-startup",
   "metadata": {},
   "source": [
    "In finding a recursive solution, first choose an example (eg. `add_up_to(5)`) and solve the function simply.\n",
    "```python\n",
    "def add_up_to(5):\n",
    "    1 + 2 + 3 + 4 + 5\n",
    "```\n",
    "And then see if you can reword the solution with the name of our function:\n",
    "\n",
    "```python\n",
    "def add_up_to(5):\n",
    "    add_up_to(4) + 5\n",
    "```"
   ]
  },
  {
   "cell_type": "markdown",
   "id": "pediatric-england",
   "metadata": {},
   "source": [
    "We will be decreasing the input with each function call, until we reach a base case."
   ]
  },
  {
   "cell_type": "code",
   "execution_count": 49,
   "id": "orange-transsexual",
   "metadata": {},
   "outputs": [],
   "source": [
    "def add_up_to(n):\n",
    "    if n > 1:\n",
    "        return add_up_to(n - 1) + n\n",
    "    else:\n",
    "        return 1"
   ]
  },
  {
   "cell_type": "code",
   "execution_count": 50,
   "id": "retired-bangladesh",
   "metadata": {},
   "outputs": [
    {
     "data": {
      "text/plain": [
       "15"
      ]
     },
     "execution_count": 50,
     "metadata": {},
     "output_type": "execute_result"
    }
   ],
   "source": [
    "add_up_to(5)"
   ]
  }
 ],
 "metadata": {
  "kernelspec": {
   "display_name": "Python 3",
   "language": "python",
   "name": "python3"
  },
  "language_info": {
   "codemirror_mode": {
    "name": "ipython",
    "version": 3
   },
   "file_extension": ".py",
   "mimetype": "text/x-python",
   "name": "python",
   "nbconvert_exporter": "python",
   "pygments_lexer": "ipython3",
   "version": "3.8.6"
  }
 },
 "nbformat": 4,
 "nbformat_minor": 5
}
