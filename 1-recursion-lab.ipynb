{
 "cells": [
  {
   "cell_type": "markdown",
   "id": "corresponding-bolivia",
   "metadata": {},
   "source": [
    "# Recursion Practice"
   ]
  },
  {
   "cell_type": "markdown",
   "id": "logical-czech",
   "metadata": {},
   "source": [
    "### Introduction"
   ]
  },
  {
   "cell_type": "markdown",
   "id": "civil-envelope",
   "metadata": {},
   "source": [
    "In this lesson, we'll practice using recursion to solve the following problems with strings and lists.  Both data structures often lend themselves to recursion because a subset of a list is another list and a subset of a string is another string.  Before, we get goin, remember our approach.\n",
    "\n",
    "When moving through each problem remember to:\n",
    "1. Give yourself an example,\n",
    "2. Solve the example however you can, and then\n",
    "3. See if you can find the recursive call, and finally\n",
    "4. Find the base case."
   ]
  },
  {
   "cell_type": "markdown",
   "id": "knowing-uganda",
   "metadata": {},
   "source": [
    "### Additional string challenge\n",
    "\n",
    "1. Write out a recursive function to reverse a string.\n",
    "\n",
    "2. Write out a recursive function to see if a word is a palindrome.\n",
    "\n"
   ]
  },
  {
   "cell_type": "markdown",
   "id": "technical-strength",
   "metadata": {},
   "source": [
    "### List challenges\n",
    "\n",
    "Lists are another data structure that lend themselves sto recursion.  Try to answer the following problems:\n",
    "\n",
    "1. Given an array and an index, write a recursive function to add up the elements of an array.\n",
    "\n",
    "2. Write a recursive function to find the largest integer in an array.\n",
    "\n",
    "3. Write out a function to see if an array includes a given element."
   ]
  }
 ],
 "metadata": {
  "kernelspec": {
   "display_name": "Python 3",
   "language": "python",
   "name": "python3"
  },
  "language_info": {
   "codemirror_mode": {
    "name": "ipython",
    "version": 3
   },
   "file_extension": ".py",
   "mimetype": "text/x-python",
   "name": "python",
   "nbconvert_exporter": "python",
   "pygments_lexer": "ipython3",
   "version": "3.8.6"
  }
 },
 "nbformat": 4,
 "nbformat_minor": 5
}
